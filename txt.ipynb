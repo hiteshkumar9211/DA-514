{
 "cells": [
  {
   "cell_type": "code",
   "execution_count": 1,
   "metadata": {},
   "outputs": [],
   "source": [
    "import pandas as pd"
   ]
  },
  {
   "cell_type": "code",
   "execution_count": 2,
   "metadata": {},
   "outputs": [
    {
     "name": "stdout",
     "output_type": "stream",
     "text": [
      "5    100359\n",
      "3    100230\n",
      "4    100230\n",
      "9    100106\n",
      "2    100026\n",
      "8     99985\n",
      "0     99959\n",
      "7     99800\n",
      "1     99758\n",
      "6     99548\n",
      "dtype: int64\n"
     ]
    }
   ],
   "source": [
    "with open('one-million.txt','r')as f:\n",
    "    pi_value = f.read()\n",
    "pi_value = ''.join(char for char in pi_value if char.isdigit())\n",
    "pi_series = pd.Series(list(pi_value))\n",
    "digit_count = pi_series.value_counts()\n",
    "print(digit_count)"
   ]
  }
 ],
 "metadata": {
  "interpreter": {
   "hash": "916dbcbb3f70747c44a77c7bcd40155683ae19c65e1c03b4aa3499c5328201f1"
  },
  "kernelspec": {
   "display_name": "Python 3.10.12 64-bit",
   "language": "python",
   "name": "python3"
  },
  "language_info": {
   "codemirror_mode": {
    "name": "ipython",
    "version": 3
   },
   "file_extension": ".py",
   "mimetype": "text/x-python",
   "name": "python",
   "nbconvert_exporter": "python",
   "pygments_lexer": "ipython3",
   "version": "3.10.12"
  },
  "orig_nbformat": 4
 },
 "nbformat": 4,
 "nbformat_minor": 2
}
